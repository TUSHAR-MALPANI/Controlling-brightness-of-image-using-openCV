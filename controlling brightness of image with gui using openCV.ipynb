{
 "cells": [
  {
   "cell_type": "code",
   "execution_count": 3,
   "id": "49cb0b71",
   "metadata": {},
   "outputs": [],
   "source": [
    "import numpy as np\n",
    "import cv2"
   ]
  },
  {
   "cell_type": "code",
   "execution_count": 2,
   "id": "9432d46c",
   "metadata": {},
   "outputs": [],
   "source": [
    "img = cv2.imread('./images/car.jpg')  "
   ]
  },
  {
   "cell_type": "code",
   "execution_count": 16,
   "id": "fa064a6d",
   "metadata": {},
   "outputs": [],
   "source": [
    "def nothing(x):\n",
    "    pass\n",
    "cv2.namedWindow('Brightness Control')\n",
    "bright = cv2.createTrackbar('Brightness','Brightness Control',127,255,nothing)\n",
    "value = np.ones_like(img,dtype='uint8')\n",
    " \n",
    "while True:\n",
    "    bright = cv2.getTrackbarPos('Brightness','Brightness Control')\n",
    "    bar = bright - 127   \n",
    "    if bar >=0:\n",
    "        value = np.ones_like(img,dtype = 'uint8')*bar\n",
    "        img_ctrl = cv2.add(img,value)\n",
    "    else:\n",
    "        bar = 127 - bright\n",
    "        value = np.ones_like(img,dtype = 'uint8')*bar\n",
    "        img_ctrl = cv2.subtract(img,value)\n",
    "    cv2.imshow('Brightness Control',img_ctrl)\n",
    "    if cv2.waitKey(1)==27: # press esc button to close the window\n",
    "        break\n",
    "cv2.destroyAllWindows()"
   ]
  },
  {
   "cell_type": "markdown",
   "id": "dce7b714",
   "metadata": {},
   "source": [
    "# Applying to videos"
   ]
  },
  {
   "cell_type": "code",
   "execution_count": 1,
   "id": "f31c63c7",
   "metadata": {},
   "outputs": [],
   "source": [
    "import numpy as np\n",
    "import cv2"
   ]
  },
  {
   "cell_type": "code",
   "execution_count": 2,
   "id": "f2adefe9",
   "metadata": {},
   "outputs": [],
   "source": [
    "def brightness_control(image,bright):\n",
    "    bar  = bright -127\n",
    "    if bar>=0:\n",
    "        value = np.ones_like(image,dtype='uint8')*bar\n",
    "        img_ctrl = cv2.add(image,value)\n",
    "    else:\n",
    "        bar = 127 - bright\n",
    "        value = np.ones_like(image,dtype='uint8')*bar\n",
    "        img_ctrl = cv2.subtract(image,value)\n",
    "    return img_ctrl"
   ]
  },
  {
   "cell_type": "code",
   "execution_count": 3,
   "id": "d2ae774a",
   "metadata": {},
   "outputs": [],
   "source": [
    "cap = cv2.VideoCapture('./images/clip.mp4')\n",
    "cv2.namedWindow('Brightness Control')\n",
    "def nothing(x):\n",
    "    pass\n",
    "bright = cv2.createTrackbar('Brightness','Brightness Control',127,255,nothing)\n",
    "while True:\n",
    "    ret , frame = cap.read()\n",
    "    if ret==False:\n",
    "        break\n",
    "        \n",
    "    bright = cv2.getTrackbarPos('Brightness','Brightness Control')\n",
    "    img_ctrl = brightness_control(frame,bright)\n",
    "    cv2.imshow('Brightness Control',img_ctrl)\n",
    "    if cv2.waitKey(24)==27:\n",
    "        break\n",
    "        \n",
    "cv2.destroyAllWindows()\n",
    "cap.release()\n",
    "    "
   ]
  },
  {
   "cell_type": "code",
   "execution_count": null,
   "id": "0a4a5fbd",
   "metadata": {},
   "outputs": [],
   "source": []
  }
 ],
 "metadata": {
  "kernelspec": {
   "display_name": "Python 3 (ipykernel)",
   "language": "python",
   "name": "python3"
  },
  "language_info": {
   "codemirror_mode": {
    "name": "ipython",
    "version": 3
   },
   "file_extension": ".py",
   "mimetype": "text/x-python",
   "name": "python",
   "nbconvert_exporter": "python",
   "pygments_lexer": "ipython3",
   "version": "3.9.7"
  }
 },
 "nbformat": 4,
 "nbformat_minor": 5
}
